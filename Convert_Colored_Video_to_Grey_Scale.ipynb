{
  "nbformat": 4,
  "nbformat_minor": 0,
  "metadata": {
    "colab": {
      "provenance": [],
      "authorship_tag": "ABX9TyPCtvF9it0wTd2vW7rtwHF8",
      "include_colab_link": true
    },
    "kernelspec": {
      "name": "python3",
      "display_name": "Python 3"
    },
    "language_info": {
      "name": "python"
    }
  },
  "cells": [
    {
      "cell_type": "markdown",
      "metadata": {
        "id": "view-in-github",
        "colab_type": "text"
      },
      "source": [
        "<a href=\"https://colab.research.google.com/github/rkpassin132/python-opencv/blob/main/Convert_Colored_Video_to_Grey_Scale.ipynb\" target=\"_parent\"><img src=\"https://colab.research.google.com/assets/colab-badge.svg\" alt=\"Open In Colab\"/></a>"
      ]
    },
    {
      "cell_type": "markdown",
      "source": [
        "### \"Convert Colored Video to Grey Scale (b/w)\" using OpenCV"
      ],
      "metadata": {
        "id": "w7lTMzWMuhwk"
      }
    },
    {
      "cell_type": "code",
      "execution_count": 1,
      "metadata": {
        "colab": {
          "base_uri": "https://localhost:8080/"
        },
        "id": "0150hLx2ubFO",
        "outputId": "7f4691b9-c45d-4c3c-c449-9f7e5c1c92f6"
      },
      "outputs": [
        {
          "output_type": "stream",
          "name": "stdout",
          "text": [
            "Looking in indexes: https://pypi.org/simple, https://us-python.pkg.dev/colab-wheels/public/simple/\n",
            "Requirement already satisfied: opencv-python in /usr/local/lib/python3.10/dist-packages (4.7.0.72)\n",
            "Requirement already satisfied: numpy>=1.21.2 in /usr/local/lib/python3.10/dist-packages (from opencv-python) (1.22.4)\n"
          ]
        }
      ],
      "source": [
        "!pip install opencv-python"
      ]
    },
    {
      "cell_type": "code",
      "source": [
        "# importing the module\n",
        "import cv2\n",
        "import numpy as np\n",
        "from google.colab.patches import cv2_imshow\n",
        "\n",
        "# reading the vedio\n",
        "source = cv2.VideoCapture('/content/cat.mp4')\n",
        "\n",
        "# We need to set resolutions.\n",
        "# so, convert them from float to integer.\n",
        "frame_width = int(source.get(3))\n",
        "frame_height = int(source.get(4))\n",
        "\n",
        "size = (frame_width, frame_height)\n",
        "\n",
        "result = cv2.VideoWriter('/content/gray.avi', cv2.VideoWriter_fourcc(*'MJPG'), 10, size, 0)\n",
        "\n",
        "\n",
        "# running the loop\n",
        "while True:\n",
        "\n",
        "    # extracting the frames\n",
        "    ret, img = source.read()\n",
        "\n",
        "    # converting to gray-scale\n",
        "    gray = cv2.cvtColor(img, cv2.COLOR_BGR2GRAY)\n",
        "\n",
        "    # write to gray-scale\n",
        "    result.write(gray)\n",
        "\n",
        "    # displaying the video\n",
        "    cv2_imshow(gray)\n",
        "\n",
        "    # exiting the loop\n",
        "    key = cv2.waitKey(1)\n",
        "    if key == ord(\"q\"):\n",
        "        break\n",
        "\n",
        "# closing the window\n",
        "cv2.destroyAllWindows()\n",
        "source.release()"
      ],
      "metadata": {
        "id": "1Vg5J7jxulpR"
      },
      "execution_count": 12,
      "outputs": []
    }
  ]
}