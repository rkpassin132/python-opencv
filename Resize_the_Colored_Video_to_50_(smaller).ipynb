{
  "nbformat": 4,
  "nbformat_minor": 0,
  "metadata": {
    "colab": {
      "provenance": [],
      "authorship_tag": "ABX9TyNWMAEmVpkvyWqLyQRqhs7u",
      "include_colab_link": true
    },
    "kernelspec": {
      "name": "python3",
      "display_name": "Python 3"
    },
    "language_info": {
      "name": "python"
    }
  },
  "cells": [
    {
      "cell_type": "markdown",
      "metadata": {
        "id": "view-in-github",
        "colab_type": "text"
      },
      "source": [
        "<a href=\"https://colab.research.google.com/github/rkpassin132/python-opencv/blob/main/Resize_the_Colored_Video_to_50_(smaller).ipynb\" target=\"_parent\"><img src=\"https://colab.research.google.com/assets/colab-badge.svg\" alt=\"Open In Colab\"/></a>"
      ]
    },
    {
      "cell_type": "markdown",
      "source": [
        "###  \"Resize the Colored Video to 50% (smaller)\" using OpenCV |"
      ],
      "metadata": {
        "id": "fHLiM99v8TtI"
      }
    },
    {
      "cell_type": "code",
      "execution_count": 1,
      "metadata": {
        "colab": {
          "base_uri": "https://localhost:8080/"
        },
        "id": "IaG8dTRR8SQx",
        "outputId": "3c897a6c-d53a-488d-cce1-aeb873fa07d0"
      },
      "outputs": [
        {
          "output_type": "stream",
          "name": "stdout",
          "text": [
            "Looking in indexes: https://pypi.org/simple, https://us-python.pkg.dev/colab-wheels/public/simple/\n",
            "Requirement already satisfied: opencv-python in /usr/local/lib/python3.10/dist-packages (4.7.0.72)\n",
            "Requirement already satisfied: numpy>=1.21.2 in /usr/local/lib/python3.10/dist-packages (from opencv-python) (1.22.4)\n"
          ]
        }
      ],
      "source": [
        "!pip install opencv-python"
      ]
    },
    {
      "cell_type": "code",
      "source": [
        "import cv2\n",
        "import numpy as np\n",
        "\n",
        "cap = cv2.VideoCapture('/content/cat.mp4')\n",
        "\n",
        "fourcc = cv2.VideoWriter_fourcc(*'XVID')\n",
        "out = cv2.VideoWriter('output.avi',fourcc, 5, (1280,720))\n",
        "\n",
        "while True:\n",
        "    ret, frame = cap.read()\n",
        "    if ret == True:\n",
        "        b = cv2.resize(frame,(1280,720),fx=0,fy=0, interpolation = cv2.INTER_CUBIC)\n",
        "        out.write(b)\n",
        "    else:\n",
        "        break\n",
        "\n",
        "cap.release()\n",
        "out.release()\n",
        "cv2.destroyAllWindows()"
      ],
      "metadata": {
        "id": "XiUfdwEU8dL4"
      },
      "execution_count": 5,
      "outputs": []
    },
    {
      "cell_type": "code",
      "source": [
        "# delete all file\n",
        "import os\n",
        "\n",
        "filelist = [ f for f in os.listdir(\"/content/\") if f.endswith(\".jpg\") ]\n",
        "for f in filelist:\n",
        "    os.remove(os.path.join(\"/content/\", f))"
      ],
      "metadata": {
        "id": "dauGkXe89cjf"
      },
      "execution_count": 3,
      "outputs": []
    }
  ]
}